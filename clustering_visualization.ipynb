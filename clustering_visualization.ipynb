{
 "cells": [
  {
   "cell_type": "code",
   "execution_count": 6,
   "id": "9d040765",
   "metadata": {},
   "outputs": [],
   "source": [
    "# load libraries\n",
    "\n",
    "from sklearn.metrics import silhouette_samples, silhouette_score\n",
    "from sklearn.metrics import confusion_matrix, accuracy_score\n",
    "from scipy import stats\n",
    "\n",
    "import matplotlib.pyplot as plt\n",
    "import seaborn as sns\n",
    "import pandas as pd\n",
    "import numpy as np\n",
    "import pickle"
   ]
  },
  {
   "cell_type": "code",
   "execution_count": 2,
   "id": "34e49c70",
   "metadata": {},
   "outputs": [],
   "source": [
    "# load function\n",
    "\n",
    "def cluster_scoring(model, y_true):\n",
    "    \n",
    "    '''function to compute the accuracy, sensitivity and specificity of a clustering algorithm\n",
    "    when the true class labels are known'''\n",
    "    \n",
    "    tn, fp, fn, tp = confusion_matrix(y_true, model.labels_).ravel()\n",
    "    accuracy = accuracy_score(y_true, model.labels_)\n",
    "    sensitivity = tp/(tp+fn)\n",
    "    specificity = tn/(tn+fp)\n",
    "\n",
    "    return accuracy, sensitivity, specificity\n"
   ]
  },
  {
   "cell_type": "code",
   "execution_count": 3,
   "id": "62055656",
   "metadata": {},
   "outputs": [],
   "source": [
    "# load function\n",
    "\n",
    "def cluster_values(df_col, cluster_results_col):\n",
    "    \n",
    "    '''Function to that resturns the corresponding values from the dataframe for each cluster result,\n",
    "    e.g. all MMSE scores associated with cluser 1 for an algorithm'''\n",
    "   \n",
    "    cluster0_values = []\n",
    "    cluster1_values = []\n",
    "    \n",
    "    for value, label in zip(df_col, cluster_results_col):\n",
    "        if label == 0:\n",
    "            cluster0_values.append(value)\n",
    "        \n",
    "        elif label == 1:\n",
    "             cluster1_values.append(value)       \n",
    "            \n",
    "    return cluster0_values, cluster1_values"
   ]
  },
  {
   "cell_type": "code",
   "execution_count": 33,
   "id": "104c2041",
   "metadata": {},
   "outputs": [],
   "source": [
    "# set path\n",
    "\n",
    "ADNI_dir = '/Users/natashaclarke/Documents/brainhack/ADNI_matched'"
   ]
  },
  {
   "cell_type": "code",
   "execution_count": 22,
   "id": "2a240cd7",
   "metadata": {},
   "outputs": [],
   "source": [
    "# load pickled models\n",
    "\n",
    "model1_Ward = pickle.load(open('model1_ward.sav', 'rb'))\n",
    "model2_Average = pickle.load(open('model2_average.sav', 'rb'))\n",
    "model3_KMeans = pickle.load(open('model3_kmeans.sav', 'rb'))"
   ]
  },
  {
   "cell_type": "code",
   "execution_count": 30,
   "id": "27eb5b50",
   "metadata": {},
   "outputs": [],
   "source": [
    "# load a spreadsheet that lists the info you have for your data (file name, demographics etc)\n",
    "\n",
    "df = pd.read_excel(open('matched_ADNI_AD.xlsx', 'rb'))"
   ]
  },
  {
   "cell_type": "code",
   "execution_count": 31,
   "id": "b3ee9a16",
   "metadata": {},
   "outputs": [],
   "source": [
    "# sort by the file name so that the df is in the same order as when we sorted the files before calculating connectivity\n",
    "\n",
    "df = df.sort_values('File')"
   ]
  },
  {
   "cell_type": "code",
   "execution_count": 32,
   "id": "0d58ee0e",
   "metadata": {},
   "outputs": [
    {
     "data": {
      "text/html": [
       "<div>\n",
       "<style scoped>\n",
       "    .dataframe tbody tr th:only-of-type {\n",
       "        vertical-align: middle;\n",
       "    }\n",
       "\n",
       "    .dataframe tbody tr th {\n",
       "        vertical-align: top;\n",
       "    }\n",
       "\n",
       "    .dataframe thead th {\n",
       "        text-align: right;\n",
       "    }\n",
       "</style>\n",
       "<table border=\"1\" class=\"dataframe\">\n",
       "  <thead>\n",
       "    <tr style=\"text-align: right;\">\n",
       "      <th></th>\n",
       "      <th>record_id</th>\n",
       "      <th>weight</th>\n",
       "      <th>Age</th>\n",
       "      <th>File</th>\n",
       "      <th>Confound file</th>\n",
       "      <th>MMSE Total Score</th>\n",
       "      <th>Sex</th>\n",
       "      <th>Subject ID</th>\n",
       "      <th>research_group</th>\n",
       "      <th>scores</th>\n",
       "      <th>match_id</th>\n",
       "    </tr>\n",
       "  </thead>\n",
       "  <tbody>\n",
       "    <tr>\n",
       "      <th>0</th>\n",
       "      <td>30</td>\n",
       "      <td>1.0</td>\n",
       "      <td>73.4</td>\n",
       "      <td>fmri_sub002S4262_sess20120419_taskrest_n.nii.gz</td>\n",
       "      <td>fmri_sub002S4262_sess20120419_taskrest_n_confo...</td>\n",
       "      <td>29</td>\n",
       "      <td>F</td>\n",
       "      <td>002_S_4262</td>\n",
       "      <td>CN</td>\n",
       "      <td>0.442962</td>\n",
       "      <td>10</td>\n",
       "    </tr>\n",
       "    <tr>\n",
       "      <th>1</th>\n",
       "      <td>32</td>\n",
       "      <td>1.0</td>\n",
       "      <td>80.0</td>\n",
       "      <td>fmri_sub006S0498_sess20151123_taskrest_n.nii.gz</td>\n",
       "      <td>fmri_sub006S0498_sess20151123_taskrest_n_confo...</td>\n",
       "      <td>30</td>\n",
       "      <td>M</td>\n",
       "      <td>006_S_0498</td>\n",
       "      <td>CN</td>\n",
       "      <td>0.571745</td>\n",
       "      <td>6</td>\n",
       "    </tr>\n",
       "    <tr>\n",
       "      <th>2</th>\n",
       "      <td>6</td>\n",
       "      <td>1.0</td>\n",
       "      <td>80.0</td>\n",
       "      <td>fmri_sub006S4153_sess20120327_taskrest_n.nii.gz</td>\n",
       "      <td>fmri_sub006S4153_sess20120327_taskrest_n_confo...</td>\n",
       "      <td>23</td>\n",
       "      <td>M</td>\n",
       "      <td>006_S_4153</td>\n",
       "      <td>AD</td>\n",
       "      <td>0.571745</td>\n",
       "      <td>6</td>\n",
       "    </tr>\n",
       "    <tr>\n",
       "      <th>3</th>\n",
       "      <td>7</td>\n",
       "      <td>1.0</td>\n",
       "      <td>83.0</td>\n",
       "      <td>fmri_sub006S4192_sess20120507_taskrest_n.nii.gz</td>\n",
       "      <td>fmri_sub006S4192_sess20120507_taskrest_n_confo...</td>\n",
       "      <td>22</td>\n",
       "      <td>M</td>\n",
       "      <td>006_S_4192</td>\n",
       "      <td>AD</td>\n",
       "      <td>0.571840</td>\n",
       "      <td>7</td>\n",
       "    </tr>\n",
       "    <tr>\n",
       "      <th>4</th>\n",
       "      <td>8</td>\n",
       "      <td>1.0</td>\n",
       "      <td>75.1</td>\n",
       "      <td>fmri_sub006S4867_sess20130304_taskrest_n.nii.gz</td>\n",
       "      <td>fmri_sub006S4867_sess20130304_taskrest_n_confo...</td>\n",
       "      <td>23</td>\n",
       "      <td>M</td>\n",
       "      <td>006_S_4867</td>\n",
       "      <td>AD</td>\n",
       "      <td>0.570331</td>\n",
       "      <td>8</td>\n",
       "    </tr>\n",
       "    <tr>\n",
       "      <th>5</th>\n",
       "      <td>35</td>\n",
       "      <td>0.5</td>\n",
       "      <td>76.8</td>\n",
       "      <td>fmri_sub007S4488_sess20160222_taskrest_n.nii.gz</td>\n",
       "      <td>fmri_sub007S4488_sess20160222_taskrest_n_confo...</td>\n",
       "      <td>30</td>\n",
       "      <td>M</td>\n",
       "      <td>007_S_4488</td>\n",
       "      <td>CN</td>\n",
       "      <td>0.570998</td>\n",
       "      <td>9</td>\n",
       "    </tr>\n",
       "    <tr>\n",
       "      <th>6</th>\n",
       "      <td>36</td>\n",
       "      <td>1.0</td>\n",
       "      <td>75.4</td>\n",
       "      <td>fmri_sub007S4516_sess20160215_taskrest_n.nii.gz</td>\n",
       "      <td>fmri_sub007S4516_sess20160215_taskrest_n_confo...</td>\n",
       "      <td>30</td>\n",
       "      <td>M</td>\n",
       "      <td>007_S_4516</td>\n",
       "      <td>CN</td>\n",
       "      <td>0.570462</td>\n",
       "      <td>8</td>\n",
       "    </tr>\n",
       "    <tr>\n",
       "      <th>7</th>\n",
       "      <td>39</td>\n",
       "      <td>0.5</td>\n",
       "      <td>67.6</td>\n",
       "      <td>fmri_sub012S4545_sess20120924_taskrest_n.nii.gz</td>\n",
       "      <td>fmri_sub012S4545_sess20120924_taskrest_n_confo...</td>\n",
       "      <td>29</td>\n",
       "      <td>F</td>\n",
       "      <td>012_S_4545</td>\n",
       "      <td>CN</td>\n",
       "      <td>0.441724</td>\n",
       "      <td>4</td>\n",
       "    </tr>\n",
       "    <tr>\n",
       "      <th>8</th>\n",
       "      <td>9</td>\n",
       "      <td>1.0</td>\n",
       "      <td>76.6</td>\n",
       "      <td>fmri_sub013S5071_sess20130827_taskrest_n.nii.gz</td>\n",
       "      <td>fmri_sub013S5071_sess20130827_taskrest_n_confo...</td>\n",
       "      <td>21</td>\n",
       "      <td>M</td>\n",
       "      <td>013_S_5071</td>\n",
       "      <td>AD</td>\n",
       "      <td>0.570929</td>\n",
       "      <td>9</td>\n",
       "    </tr>\n",
       "    <tr>\n",
       "      <th>9</th>\n",
       "      <td>20</td>\n",
       "      <td>1.0</td>\n",
       "      <td>77.8</td>\n",
       "      <td>fmri_sub018S4313_sess20120801_taskrest_n.nii.gz</td>\n",
       "      <td>fmri_sub018S4313_sess20120801_taskrest_n_confo...</td>\n",
       "      <td>27</td>\n",
       "      <td>F</td>\n",
       "      <td>018_S_4313</td>\n",
       "      <td>CN</td>\n",
       "      <td>0.444852</td>\n",
       "      <td>5</td>\n",
       "    </tr>\n",
       "    <tr>\n",
       "      <th>10</th>\n",
       "      <td>14</td>\n",
       "      <td>0.5</td>\n",
       "      <td>71.8</td>\n",
       "      <td>fmri_sub018S4400_sess20120717_taskrest_n.nii.gz</td>\n",
       "      <td>fmri_sub018S4400_sess20120717_taskrest_n_confo...</td>\n",
       "      <td>29</td>\n",
       "      <td>M</td>\n",
       "      <td>018_S_4400</td>\n",
       "      <td>CN</td>\n",
       "      <td>0.568548</td>\n",
       "      <td>14</td>\n",
       "    </tr>\n",
       "    <tr>\n",
       "      <th>11</th>\n",
       "      <td>10</td>\n",
       "      <td>1.0</td>\n",
       "      <td>73.6</td>\n",
       "      <td>fmri_sub018S4696_sess20121101_taskrest_n.nii.gz</td>\n",
       "      <td>fmri_sub018S4696_sess20121101_taskrest_n_confo...</td>\n",
       "      <td>16</td>\n",
       "      <td>F</td>\n",
       "      <td>018_S_4696</td>\n",
       "      <td>AD</td>\n",
       "      <td>0.443032</td>\n",
       "      <td>10</td>\n",
       "    </tr>\n",
       "    <tr>\n",
       "      <th>12</th>\n",
       "      <td>11</td>\n",
       "      <td>1.0</td>\n",
       "      <td>87.2</td>\n",
       "      <td>fmri_sub019S4252_sess20120424_taskrest_n.nii.gz</td>\n",
       "      <td>fmri_sub019S4252_sess20120424_taskrest_n_confo...</td>\n",
       "      <td>19</td>\n",
       "      <td>F</td>\n",
       "      <td>019_S_4252</td>\n",
       "      <td>AD</td>\n",
       "      <td>0.450212</td>\n",
       "      <td>11</td>\n",
       "    </tr>\n",
       "    <tr>\n",
       "      <th>13</th>\n",
       "      <td>12</td>\n",
       "      <td>1.0</td>\n",
       "      <td>82.7</td>\n",
       "      <td>fmri_sub019S4477_sess20120807_taskrest_n.nii.gz</td>\n",
       "      <td>fmri_sub019S4477_sess20120807_taskrest_n_confo...</td>\n",
       "      <td>14</td>\n",
       "      <td>F</td>\n",
       "      <td>019_S_4477</td>\n",
       "      <td>AD</td>\n",
       "      <td>0.447557</td>\n",
       "      <td>12</td>\n",
       "    </tr>\n",
       "    <tr>\n",
       "      <th>14</th>\n",
       "      <td>21</td>\n",
       "      <td>1.0</td>\n",
       "      <td>81.1</td>\n",
       "      <td>fmri_sub100S0069_sess20140128_taskrest_n.nii.gz</td>\n",
       "      <td>fmri_sub100S0069_sess20140128_taskrest_n_confo...</td>\n",
       "      <td>28</td>\n",
       "      <td>M</td>\n",
       "      <td>100_S_0069</td>\n",
       "      <td>CN</td>\n",
       "      <td>0.571847</td>\n",
       "      <td>7</td>\n",
       "    </tr>\n",
       "    <tr>\n",
       "      <th>15</th>\n",
       "      <td>22</td>\n",
       "      <td>1.0</td>\n",
       "      <td>82.7</td>\n",
       "      <td>fmri_sub100S1286_sess20140220_taskrest_n.nii.gz</td>\n",
       "      <td>fmri_sub100S1286_sess20140220_taskrest_n_confo...</td>\n",
       "      <td>29</td>\n",
       "      <td>F</td>\n",
       "      <td>100_S_1286</td>\n",
       "      <td>CN</td>\n",
       "      <td>0.447557</td>\n",
       "      <td>12</td>\n",
       "    </tr>\n",
       "    <tr>\n",
       "      <th>16</th>\n",
       "      <td>5</td>\n",
       "      <td>1.0</td>\n",
       "      <td>77.8</td>\n",
       "      <td>fmri_sub130S4660_sess20121017_taskrestrun02_n....</td>\n",
       "      <td>fmri_sub130S4660_sess20121017_taskrestrun02_n_...</td>\n",
       "      <td>22</td>\n",
       "      <td>F</td>\n",
       "      <td>130_S_4660</td>\n",
       "      <td>AD</td>\n",
       "      <td>0.444852</td>\n",
       "      <td>5</td>\n",
       "    </tr>\n",
       "    <tr>\n",
       "      <th>17</th>\n",
       "      <td>4</td>\n",
       "      <td>1.0</td>\n",
       "      <td>68.9</td>\n",
       "      <td>fmri_sub130S5006_sess20130517_taskrest_n.nii.gz</td>\n",
       "      <td>fmri_sub130S5006_sess20130517_taskrest_n_confo...</td>\n",
       "      <td>18</td>\n",
       "      <td>F</td>\n",
       "      <td>130_S_5006</td>\n",
       "      <td>AD</td>\n",
       "      <td>0.441865</td>\n",
       "      <td>4</td>\n",
       "    </tr>\n",
       "    <tr>\n",
       "      <th>18</th>\n",
       "      <td>14</td>\n",
       "      <td>1.0</td>\n",
       "      <td>72.8</td>\n",
       "      <td>fmri_sub130S5059_sess20130809_taskrest_n.nii.gz</td>\n",
       "      <td>fmri_sub130S5059_sess20130809_taskrest_n_confo...</td>\n",
       "      <td>16</td>\n",
       "      <td>M</td>\n",
       "      <td>130_S_5059</td>\n",
       "      <td>AD</td>\n",
       "      <td>0.569151</td>\n",
       "      <td>14</td>\n",
       "    </tr>\n",
       "    <tr>\n",
       "      <th>19</th>\n",
       "      <td>26</td>\n",
       "      <td>1.0</td>\n",
       "      <td>87.2</td>\n",
       "      <td>fmri_sub136S0186_sess20121011_taskrest_n.nii.gz</td>\n",
       "      <td>fmri_sub136S0186_sess20121011_taskrest_n_confo...</td>\n",
       "      <td>29</td>\n",
       "      <td>F</td>\n",
       "      <td>136_S_0186</td>\n",
       "      <td>CN</td>\n",
       "      <td>0.450212</td>\n",
       "      <td>11</td>\n",
       "    </tr>\n",
       "  </tbody>\n",
       "</table>\n",
       "</div>"
      ],
      "text/plain": [
       "    record_id  weight   Age  \\\n",
       "0          30     1.0  73.4   \n",
       "1          32     1.0  80.0   \n",
       "2           6     1.0  80.0   \n",
       "3           7     1.0  83.0   \n",
       "4           8     1.0  75.1   \n",
       "5          35     0.5  76.8   \n",
       "6          36     1.0  75.4   \n",
       "7          39     0.5  67.6   \n",
       "8           9     1.0  76.6   \n",
       "9          20     1.0  77.8   \n",
       "10         14     0.5  71.8   \n",
       "11         10     1.0  73.6   \n",
       "12         11     1.0  87.2   \n",
       "13         12     1.0  82.7   \n",
       "14         21     1.0  81.1   \n",
       "15         22     1.0  82.7   \n",
       "16          5     1.0  77.8   \n",
       "17          4     1.0  68.9   \n",
       "18         14     1.0  72.8   \n",
       "19         26     1.0  87.2   \n",
       "\n",
       "                                                 File  \\\n",
       "0     fmri_sub002S4262_sess20120419_taskrest_n.nii.gz   \n",
       "1     fmri_sub006S0498_sess20151123_taskrest_n.nii.gz   \n",
       "2     fmri_sub006S4153_sess20120327_taskrest_n.nii.gz   \n",
       "3     fmri_sub006S4192_sess20120507_taskrest_n.nii.gz   \n",
       "4     fmri_sub006S4867_sess20130304_taskrest_n.nii.gz   \n",
       "5     fmri_sub007S4488_sess20160222_taskrest_n.nii.gz   \n",
       "6     fmri_sub007S4516_sess20160215_taskrest_n.nii.gz   \n",
       "7     fmri_sub012S4545_sess20120924_taskrest_n.nii.gz   \n",
       "8     fmri_sub013S5071_sess20130827_taskrest_n.nii.gz   \n",
       "9     fmri_sub018S4313_sess20120801_taskrest_n.nii.gz   \n",
       "10    fmri_sub018S4400_sess20120717_taskrest_n.nii.gz   \n",
       "11    fmri_sub018S4696_sess20121101_taskrest_n.nii.gz   \n",
       "12    fmri_sub019S4252_sess20120424_taskrest_n.nii.gz   \n",
       "13    fmri_sub019S4477_sess20120807_taskrest_n.nii.gz   \n",
       "14    fmri_sub100S0069_sess20140128_taskrest_n.nii.gz   \n",
       "15    fmri_sub100S1286_sess20140220_taskrest_n.nii.gz   \n",
       "16  fmri_sub130S4660_sess20121017_taskrestrun02_n....   \n",
       "17    fmri_sub130S5006_sess20130517_taskrest_n.nii.gz   \n",
       "18    fmri_sub130S5059_sess20130809_taskrest_n.nii.gz   \n",
       "19    fmri_sub136S0186_sess20121011_taskrest_n.nii.gz   \n",
       "\n",
       "                                        Confound file  MMSE Total Score Sex  \\\n",
       "0   fmri_sub002S4262_sess20120419_taskrest_n_confo...                29   F   \n",
       "1   fmri_sub006S0498_sess20151123_taskrest_n_confo...                30   M   \n",
       "2   fmri_sub006S4153_sess20120327_taskrest_n_confo...                23   M   \n",
       "3   fmri_sub006S4192_sess20120507_taskrest_n_confo...                22   M   \n",
       "4   fmri_sub006S4867_sess20130304_taskrest_n_confo...                23   M   \n",
       "5   fmri_sub007S4488_sess20160222_taskrest_n_confo...                30   M   \n",
       "6   fmri_sub007S4516_sess20160215_taskrest_n_confo...                30   M   \n",
       "7   fmri_sub012S4545_sess20120924_taskrest_n_confo...                29   F   \n",
       "8   fmri_sub013S5071_sess20130827_taskrest_n_confo...                21   M   \n",
       "9   fmri_sub018S4313_sess20120801_taskrest_n_confo...                27   F   \n",
       "10  fmri_sub018S4400_sess20120717_taskrest_n_confo...                29   M   \n",
       "11  fmri_sub018S4696_sess20121101_taskrest_n_confo...                16   F   \n",
       "12  fmri_sub019S4252_sess20120424_taskrest_n_confo...                19   F   \n",
       "13  fmri_sub019S4477_sess20120807_taskrest_n_confo...                14   F   \n",
       "14  fmri_sub100S0069_sess20140128_taskrest_n_confo...                28   M   \n",
       "15  fmri_sub100S1286_sess20140220_taskrest_n_confo...                29   F   \n",
       "16  fmri_sub130S4660_sess20121017_taskrestrun02_n_...                22   F   \n",
       "17  fmri_sub130S5006_sess20130517_taskrest_n_confo...                18   F   \n",
       "18  fmri_sub130S5059_sess20130809_taskrest_n_confo...                16   M   \n",
       "19  fmri_sub136S0186_sess20121011_taskrest_n_confo...                29   F   \n",
       "\n",
       "    Subject ID research_group    scores  match_id  \n",
       "0   002_S_4262             CN  0.442962        10  \n",
       "1   006_S_0498             CN  0.571745         6  \n",
       "2   006_S_4153             AD  0.571745         6  \n",
       "3   006_S_4192             AD  0.571840         7  \n",
       "4   006_S_4867             AD  0.570331         8  \n",
       "5   007_S_4488             CN  0.570998         9  \n",
       "6   007_S_4516             CN  0.570462         8  \n",
       "7   012_S_4545             CN  0.441724         4  \n",
       "8   013_S_5071             AD  0.570929         9  \n",
       "9   018_S_4313             CN  0.444852         5  \n",
       "10  018_S_4400             CN  0.568548        14  \n",
       "11  018_S_4696             AD  0.443032        10  \n",
       "12  019_S_4252             AD  0.450212        11  \n",
       "13  019_S_4477             AD  0.447557        12  \n",
       "14  100_S_0069             CN  0.571847         7  \n",
       "15  100_S_1286             CN  0.447557        12  \n",
       "16  130_S_4660             AD  0.444852         5  \n",
       "17  130_S_5006             AD  0.441865         4  \n",
       "18  130_S_5059             AD  0.569151        14  \n",
       "19  136_S_0186             CN  0.450212        11  "
      ]
     },
     "execution_count": 32,
     "metadata": {},
     "output_type": "execute_result"
    }
   ],
   "source": [
    "df"
   ]
  },
  {
   "cell_type": "code",
   "execution_count": 34,
   "id": "aed107a8",
   "metadata": {},
   "outputs": [],
   "source": [
    "# load the correlations between seed region and ROIs\n",
    "\n",
    "corrs = pd.read_excel(open('correlations.xlsx', 'rb'))"
   ]
  },
  {
   "cell_type": "code",
   "execution_count": 35,
   "id": "e0d2b60e",
   "metadata": {},
   "outputs": [],
   "source": [
    "# concatenate the correlations with the df\n",
    "\n",
    "df = pd.concat([df, corrs], axis=1)"
   ]
  },
  {
   "cell_type": "code",
   "execution_count": 31,
   "id": "a7114188",
   "metadata": {},
   "outputs": [],
   "source": [
    "#df = df.drop(['File'], axis=1)"
   ]
  },
  {
   "cell_type": "code",
   "execution_count": 36,
   "id": "ca9f7934",
   "metadata": {},
   "outputs": [],
   "source": [
    "# add cluster results to the df\n",
    "\n",
    "df['ward_agglo'] = model1_Ward.labels_\n",
    "df['average_agglo'] = model2_Average.labels_\n",
    "df['KMeans'] = model3_KMeans.labels_"
   ]
  },
  {
   "cell_type": "code",
   "execution_count": 37,
   "id": "b8f47b2a",
   "metadata": {},
   "outputs": [],
   "source": [
    "# turn the column in your df containing the group true labels into a list\n",
    "\n",
    "true_labels = df['research_group'].tolist()"
   ]
  },
  {
   "cell_type": "code",
   "execution_count": 38,
   "id": "83586d1c",
   "metadata": {},
   "outputs": [],
   "source": [
    "# if your labels are e.g. CN and AD, convert to 0 or 1\n",
    "\n",
    "true_labels = [0 if x=='CN' else 1 for x in true_labels]  "
   ]
  },
  {
   "cell_type": "code",
   "execution_count": 39,
   "id": "0568dd33",
   "metadata": {},
   "outputs": [],
   "source": [
    "# load the array of time series correlations that we used to train clustering models\n",
    "\n",
    "X = np.load('clustering_X.npy')"
   ]
  },
  {
   "cell_type": "code",
   "execution_count": 40,
   "id": "d236328e",
   "metadata": {},
   "outputs": [
    {
     "data": {
      "text/plain": [
       "(0.6, 0.3, 0.9)"
      ]
     },
     "execution_count": 40,
     "metadata": {},
     "output_type": "execute_result"
    }
   ],
   "source": [
    "# compute the accuracy, sensitivity and specifity for each clustering algorithm\n",
    "\n",
    "cluster_scoring(model1_Ward, true_labels)"
   ]
  },
  {
   "cell_type": "code",
   "execution_count": 41,
   "id": "56ddad71",
   "metadata": {},
   "outputs": [
    {
     "data": {
      "text/plain": [
       "(0.55, 0.2, 0.9)"
      ]
     },
     "execution_count": 41,
     "metadata": {},
     "output_type": "execute_result"
    }
   ],
   "source": [
    "cluster_scoring(model2_Average, true_labels)"
   ]
  },
  {
   "cell_type": "code",
   "execution_count": 42,
   "id": "b81ae93b",
   "metadata": {},
   "outputs": [
    {
     "data": {
      "text/plain": [
       "(0.55, 0.5, 0.6)"
      ]
     },
     "execution_count": 42,
     "metadata": {},
     "output_type": "execute_result"
    }
   ],
   "source": [
    "cluster_scoring(model3_KMeans, true_labels)"
   ]
  },
  {
   "cell_type": "code",
   "execution_count": 100,
   "id": "5b0ac228",
   "metadata": {},
   "outputs": [],
   "source": [
    "# if you want to do something with the scores you can access them by doing the below\n",
    "\n",
    "ward_acc = cluster_scoring(model1_Ward, true_labels)[0]  # change to 1 for sensitivity, 2 for specificty"
   ]
  },
  {
   "cell_type": "code",
   "execution_count": 80,
   "id": "e77631f2",
   "metadata": {},
   "outputs": [],
   "source": [
    "# compute the Silhouette coefficient/ score for samples in each cluster, along with the mean and sd. \n",
    "# It is a measure of goodness of the clustering technique, and ranges from -1 to 1\n",
    "# add the silhouette scores to a df for visualization. This code could do with tidying up and I am on the case!\n",
    "\n",
    "sil_ward = silhouette_samples(X, model1_Ward.labels_)\n",
    "sil_ward_mean = np.mean(sil_ward)\n",
    "sil_ward_sd = np.std(sil_ward) \n",
    "\n",
    "df1 = pd.DataFrame(data=0, columns=['silhouette', 'group', 'model'], index=range(0))\n",
    "df1['silhouette'] = sil_ward\n",
    "df1['group'] = df['research_group']\n",
    "df1['model']= 'Ward'"
   ]
  },
  {
   "cell_type": "code",
   "execution_count": 53,
   "id": "9831d159",
   "metadata": {},
   "outputs": [],
   "source": [
    "sil_average = silhouette_samples(X, model2_Average.labels_)\n",
    "sil_av_mean = np.mean(sil_average)\n",
    "sil_av_sd = np.std(sil_average) \n",
    "\n",
    "df2 = pd.DataFrame(data=0, columns=['silhouette', 'group', 'model'], index=range(0))\n",
    "df2['silhouette'] = sil_average\n",
    "df2['group'] = df['research_group']\n",
    "df2['model']= 'Average'"
   ]
  },
  {
   "cell_type": "code",
   "execution_count": 50,
   "id": "b2eabe30",
   "metadata": {},
   "outputs": [],
   "source": [
    "sil_KMeans = silhouette_samples(X, model3_KMeans.labels_)\n",
    "sil_K_mean = np.mean(sil_KMeans)\n",
    "sil_K_sd = np.std(sil_KMeans) \n",
    "\n",
    "df3 = pd.DataFrame(data=0, columns=['silhouette', 'group', 'model'], index=range(0))\n",
    "df3['silhouette'] = sil_KMeans\n",
    "df3['group'] = df['research_group']\n",
    "df3['model']= 'KMeans'"
   ]
  },
  {
   "cell_type": "code",
   "execution_count": 54,
   "id": "c0e94fc4",
   "metadata": {},
   "outputs": [],
   "source": [
    "# concatenate dfs\n",
    "\n",
    "sil_df = pd.concat([df1, df2, df3]).reset_index(drop=True)"
   ]
  },
  {
   "cell_type": "code",
   "execution_count": 57,
   "id": "ca2cc8a5",
   "metadata": {},
   "outputs": [],
   "source": [
    "# set the seaborn theme\n",
    "\n",
    "sns.set_theme(style='ticks', palette='colorblind')"
   ]
  },
  {
   "cell_type": "code",
   "execution_count": 75,
   "id": "74be2aee",
   "metadata": {},
   "outputs": [
    {
     "data": {
      "image/png": "[encoded data removed]",
      "text/plain": [
       "<Figure size 432x288 with 1 Axes>"
      ]
     },
     "metadata": {},
     "output_type": "display_data"
    }
   ],
   "source": [
    "# create box plots comparing the silhouette scores for each clustering algorithm\n",
    "\n",
    "sns.boxplot(x=\"model\", y=\"silhouette\", data=sil_df).set_title('Silhouette per Clustering Algorithm')\n",
    "sns.swarmplot(x=\"model\", y=\"silhouette\", data=sil_df, color=\".25\")\n",
    "\n",
    "plt.savefig(\"silhouette_box_plots.png\", bbox_inches=\"tight\", dpi=300)  # save the plot"
   ]
  },
  {
   "cell_type": "code",
   "execution_count": 78,
   "id": "cb07cf3c",
   "metadata": {},
   "outputs": [
    {
     "data": {
      "image/png": "[encoded data removed]",
      "text/plain": [
       "<Figure size 432x288 with 1 Axes>"
      ]
     },
     "metadata": {},
     "output_type": "display_data"
    }
   ],
   "source": [
    "# create box plots comparing the silhouette scores for each clustering algorithm per group\n",
    "\n",
    "sns.boxplot(x=\"model\", y=\"silhouette\",\n",
    "            hue=\"group\",\n",
    "            data=sil_df).set_title('Silhouette per Clustering Algorithm by Group')\n",
    "\n",
    "plt.legend(bbox_to_anchor=(1.05, 1))\n",
    "plt.savefig(\"silhouette_box_plots_group.png\", bbox_inches=\"tight\", dpi=300)  # save the plot"
   ]
  },
  {
   "cell_type": "code",
   "execution_count": 81,
   "id": "30cd8b8b",
   "metadata": {},
   "outputs": [],
   "source": [
    "# now make some lists to build a plot showing the mean and sd of silhouette scores for each clustering technique\n",
    "\n",
    "algorithms = ['Ward', 'Average', 'KMeans']\n",
    "x_pos = np.arange(len(algorithms))\n",
    "means = [sil_ward_mean, sil_av_mean, sil_K_mean]\n",
    "error = [sil_ward_sd, sil_av_sd, sil_K_sd]"
   ]
  },
  {
   "cell_type": "code",
   "execution_count": 83,
   "id": "2e463133",
   "metadata": {},
   "outputs": [
    {
     "data": {
      "image/png": "[encoded data removed]",
      "text/plain": [
       "<Figure size 432x288 with 1 Axes>"
      ]
     },
     "metadata": {},
     "output_type": "display_data"
    }
   ],
   "source": [
    "# build the plot\n",
    "fig, ax = plt.subplots()\n",
    "ax.bar(x_pos, means, yerr=error, align='center', alpha=0.5, ecolor='black', capsize=10)\n",
    "ax.set_ylabel('Mean Silhouette Score')\n",
    "ax.set_xticks(x_pos)\n",
    "ax.set_xticklabels(algorithms)\n",
    "ax.set_title('Mean (sd) Silhouette Score per Algorithm')\n",
    "ax.yaxis.grid(True)\n",
    "\n",
    "plt.tight_layout()\n",
    "plt.savefig('bar_plot_with_error_bars.png', bbox_inches=\"tight\", dpi=300)  # save the plot\n",
    "plt.show()"
   ]
  },
  {
   "cell_type": "code",
   "execution_count": 86,
   "id": "f0afba8c",
   "metadata": {},
   "outputs": [],
   "source": [
    "# get the cognitive scores (MMSE) for subjects in either cluster 0 or cluster 1\n",
    "# you can do this with any column in the df, e.g. age to see if something funny is going on\n",
    "\n",
    "MMSE_ward0, MMSE_ward1 = cluster_values(df['MMSE Total Score'], df['ward_agglo'])\n",
    "MMSE_av0, MMSE_av1 = cluster_values(df['MMSE Total Score'], df['average_agglo'])\n",
    "MMSE_kmeans0, MMSE_kmeans1 = cluster_values(df['MMSE Total Score'], df['KMeans'])"
   ]
  },
  {
   "cell_type": "code",
   "execution_count": 88,
   "id": "3ce2292f",
   "metadata": {},
   "outputs": [
    {
     "name": "stdout",
     "output_type": "stream",
     "text": [
      "Using Agglomerative (Ward), mean MMSE for cluster 0= 24.625 mean MMSE for cluster 1= 22.5\n",
      "Using Agglomerative (Average), mean MMSE for cluster 0= 24.11764705882353 mean MMSE for cluster 1= 24.666666666666668\n",
      "Using KMeans, mean MMSE for cluster 0= 24.90909090909091 mean MMSE for cluster 1= 23.333333333333332\n"
     ]
    }
   ],
   "source": [
    "# find the mean MMSE score for each cluster using different algorithms\n",
    "\n",
    "print ('Using Agglomerative (Ward), mean MMSE for cluster 0=',np.mean(MMSE_ward0),'mean MMSE for cluster 1=',np.mean(MMSE_ward1))\n",
    "print ('Using Agglomerative (Average), mean MMSE for cluster 0=',np.mean(MMSE_av0),'mean MMSE for cluster 1=',np.mean(MMSE_av1))\n",
    "print ('Using KMeans, mean MMSE for cluster 0=',np.mean(MMSE_kmeans0),'mean MMSE for cluster 1=',np.mean(MMSE_kmeans1))"
   ]
  },
  {
   "cell_type": "code",
   "execution_count": 89,
   "id": "f91db84e",
   "metadata": {},
   "outputs": [],
   "source": [
    "# now we can play around with whatever information we like, for example...\n",
    "# get the seed to ROI correlations for one ROI, per each cluster\n",
    "\n",
    "Langular_ward0, Langular_ward1 = cluster_values(df['L_angular'], df['ward_agglo'])\n",
    "Langular_av0, Langular_av1 = cluster_values(df['L_angular'], df['average_agglo'])\n",
    "Langular_kmeans0, Langular_kmeans1 = cluster_values(df['L_angular'], df['KMeans'])"
   ]
  },
  {
   "cell_type": "code",
   "execution_count": 93,
   "id": "e7641c4b",
   "metadata": {},
   "outputs": [
    {
     "name": "stdout",
     "output_type": "stream",
     "text": [
      "Pearson's R for all participants (p value)= (0.19168853009887488, 0.41816542999242384)\n"
     ]
    },
    {
     "data": {
      "image/png": "[encoded data removed]",
      "text/plain": [
       "<Figure size 432x288 with 1 Axes>"
      ]
     },
     "metadata": {},
     "output_type": "display_data"
    }
   ],
   "source": [
    "# plot a scatter plot showing ROI correlation values and MMSE score. Set the 'hue' to a clustering technique\n",
    "# to show which data points are either in cluster 0 or 1, using that algorithm. You could also change hue to \n",
    "# show whether data points are a control or AD individual, for example. Or correlate ROI correlations with age\n",
    "\n",
    "sns.scatterplot(data=df, x=\"L_angular\", y=\"MMSE Total Score\", \n",
    "                hue=\"ward_agglo\").set_title(\"L Angular FC and MMSE (Ward Clustering)\")\n",
    "\n",
    "plt.legend(bbox_to_anchor=(1.2, 1))\n",
    "\n",
    "# calculate the correlation between seed-ROI correlation values and cognition, and p value\n",
    "corr = stats.pearsonr(df['L_angular'], df['MMSE Total Score']) \n",
    "print (\"Pearson's R for all participants (p value)=\",corr)\n",
    "plt.savefig('L_angular_MMSE_scatter.png', bbox_inches=\"tight\", dpi=300)  # save the plot"
   ]
  },
  {
   "cell_type": "code",
   "execution_count": 98,
   "id": "f715ee68",
   "metadata": {},
   "outputs": [
    {
     "name": "stdout",
     "output_type": "stream",
     "text": [
      "Pearson's R (p value) for all participants = (-0.13433858007114557, 0.5723007018980796)\n"
     ]
    },
    {
     "data": {
      "image/png": "[encoded data removed]",
      "text/plain": [
       "<Figure size 432x288 with 1 Axes>"
      ]
     },
     "metadata": {},
     "output_type": "display_data"
    }
   ],
   "source": [
    "# a plot showing a different ROI and age\n",
    "\n",
    "sns.scatterplot(data=df, x=\"R_aMTG\", y=\"Age\", \n",
    "                hue=\"ward_agglo\").set_title(\"R anterior MTG FC and Age (Agglomerative)\")\n",
    "\n",
    "plt.legend(bbox_to_anchor=(1.2, 1))\n",
    "corr = stats.pearsonr(df['R_aMTG'], df['Age'])\n",
    "print (\"Pearson's R (p value) for all participants =\",corr)\n",
    "plt.savefig('R_aMTG_age_scatter.png', bbox_inches=\"tight\", dpi=300)  # save the plot"
   ]
  }
 ],
 "metadata": {
  "kernelspec": {
   "display_name": "Python 3",
   "language": "python",
   "name": "python3"
  },
  "language_info": {
   "codemirror_mode": {
    "name": "ipython",
    "version": 3
   },
   "file_extension": ".py",
   "mimetype": "text/x-python",
   "name": "python",
   "nbconvert_exporter": "python",
   "pygments_lexer": "ipython3",
   "version": "3.9.5"
  }
 },
 "nbformat": 4,
 "nbformat_minor": 5
}
